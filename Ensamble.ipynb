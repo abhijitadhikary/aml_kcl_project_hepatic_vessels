{
 "cells": [
  {
   "cell_type": "code",
   "execution_count": 1,
   "metadata": {},
   "outputs": [],
   "source": [
    "import os\n",
    "import numpy as np\n",
    "import torch\n",
    "import pickle\n",
    "from tqdm import tqdm\n",
    "import scipy"
   ]
  },
  {
   "cell_type": "code",
   "execution_count": 4,
   "metadata": {},
   "outputs": [],
   "source": [
    "# convert Diego's predictions to numpy, rearange the dimensions\n",
    "def prepare_npy_files(path_ensamble):\n",
    "    name_list = os.listdir(path_ensamble)\n",
    "    for name in name_list:\n",
    "        for index in tqdm(range(30), leave=False):\n",
    "            file_path_input = os.path.join(path_ensamble, name, f'{index}.pkl')\n",
    "            with open(file_path_input, 'rb') as pickle_file:\n",
    "                try:\n",
    "                    content = pickle.load(pickle_file)\n",
    "                    if name == 'Diego':\n",
    "                        content = content.squeeze(0).permute(0, 2, 3, 1).detach().cpu().numpy()\n",
    "                    elif name == 'Traudi-Beatrice':\n",
    "                        content = content.cpu().detach().numpy()\n",
    "                    elif name == 'Kate':\n",
    "                        content = content.squeeze(0).cpu().detach().numpy()\n",
    "                    np.save(os.path.join(path_ensamble, name, f'{index}.npy'), content)\n",
    "                except Exception as e:\n",
    "                    print(f'({name}) Exception at: {index}: {e}')"
   ]
  },
  {
   "cell_type": "code",
   "execution_count": 5,
   "metadata": {},
   "outputs": [
    {
     "name": "stderr",
     "output_type": "stream",
     "text": [
      " 97%|███████████████████████████████████████████████████████████████████████████████▎  | 29/30 [00:03<00:00,  7.24it/s]"
     ]
    },
    {
     "name": "stdout",
     "output_type": "stream",
     "text": [
      "(Piyalitt) Exception at: 29: Ran out of input\n"
     ]
    },
    {
     "name": "stderr",
     "output_type": "stream",
     "text": [
      "                                                                                                                       \r"
     ]
    }
   ],
   "source": [
    "path_ensamble = os.path.join('.', 'Ensamble')\n",
    "prepare_npy_files(path_ensamble)"
   ]
  },
  {
   "cell_type": "code",
   "execution_count": 9,
   "metadata": {},
   "outputs": [
    {
     "name": "stderr",
     "output_type": "stream",
     "text": [
      "                                                                                                                       \r"
     ]
    }
   ],
   "source": [
    "names_list = os.listdir(path_ensamble)\n",
    "num_inference = 29 # not 30 because the last file of Piyalitt can not be read, thows exception\n",
    "\n",
    "path_avg_ensamble = os.path.join('.', 'Ensamble_avg')\n",
    "os.makedirs(path_avg_ensamble, exist_ok=True)\n",
    "\n",
    "for index_filename in tqdm(range(num_inference), leave=False):\n",
    "    # placeholder to hold the data of each person of the current index\n",
    "    data_npy_list = []\n",
    "    \n",
    "    # read the current index file of each person and append to the list\n",
    "    for index_name, name in enumerate(names_list):\n",
    "        file_path = os.path.join(path_ensamble, name, f'{index_filename}.npy')\n",
    "        \n",
    "        data_npy = np.load(file_path)\n",
    "        data_npy = torch.softmax(torch.tensor(data_npy), dim=0).detach().cpu().numpy()\n",
    "        data_npy_list.append(data_npy)\n",
    "        \n",
    "    # convert to array and calculate the mean\n",
    "    data_npy_list = np.array(data_npy_list)\n",
    "    data_npy_mean = np.mean(data_npy_list, axis=0)\n",
    "\n",
    "    # TODO calculate dice/mse/ce here\n",
    "    \n",
    "    # save the average of the ensamble\n",
    "    path_out_current = os.path.join(path_avg_ensamble, f'{index_filename}.npy')\n",
    "    np.save(path_out_current, data_npy_mean)"
   ]
  },
  {
   "cell_type": "code",
   "execution_count": 11,
   "metadata": {},
   "outputs": [
    {
     "data": {
      "text/plain": [
       "['Diego', 'Kate', 'Piyalitt', 'Traudi-Beatrice']"
      ]
     },
     "execution_count": 11,
     "metadata": {},
     "output_type": "execute_result"
    }
   ],
   "source": []
  },
  {
   "cell_type": "code",
   "execution_count": 15,
   "metadata": {},
   "outputs": [],
   "source": []
  },
  {
   "cell_type": "code",
   "execution_count": null,
   "metadata": {},
   "outputs": [],
   "source": []
  }
 ],
 "metadata": {
  "kernelspec": {
   "display_name": "Python 3",
   "language": "python",
   "name": "python3"
  },
  "language_info": {
   "codemirror_mode": {
    "name": "ipython",
    "version": 3
   },
   "file_extension": ".py",
   "mimetype": "text/x-python",
   "name": "python",
   "nbconvert_exporter": "python",
   "pygments_lexer": "ipython3",
   "version": "3.6.9"
  }
 },
 "nbformat": 4,
 "nbformat_minor": 5
}
